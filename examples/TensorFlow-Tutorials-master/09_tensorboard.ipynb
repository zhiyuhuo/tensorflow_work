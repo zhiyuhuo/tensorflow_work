{
 "cells": [
  {
   "cell_type": "markdown",
   "metadata": {},
   "source": [
    "# TensorBoard"
   ]
  },
  {
   "cell_type": "markdown",
   "metadata": {},
   "source": [
    "After Training the model, run \n",
    "\n",
    "    tensorboard --logdir=path/to/log-directory\n",
    "    \n",
    "Tensorboard provides a good visualization tool for all the variables you like and works on a browser."
   ]
  },
  {
   "cell_type": "code",
   "execution_count": 1,
   "metadata": {
    "collapsed": true
   },
   "outputs": [],
   "source": [
    "import tensorflow as tf\n",
    "import input_data"
   ]
  },
  {
   "cell_type": "code",
   "execution_count": 2,
   "metadata": {
    "collapsed": false
   },
   "outputs": [
    {
     "name": "stdout",
     "output_type": "stream",
     "text": [
      "('Extracting', 'MNIST_data/train-images-idx3-ubyte.gz')\n",
      "('Extracting', 'MNIST_data/train-labels-idx1-ubyte.gz')\n",
      "('Extracting', 'MNIST_data/t10k-images-idx3-ubyte.gz')\n",
      "('Extracting', 'MNIST_data/t10k-labels-idx1-ubyte.gz')\n"
     ]
    },
    {
     "name": "stderr",
     "output_type": "stream",
     "text": [
      "/usr/lib/python2.7/gzip.py:268: VisibleDeprecationWarning: converting an array with ndim > 0 to an index will result in an error in the future\n",
      "  chunk = self.extrabuf[offset: offset + size]\n",
      "input_data.py:42: VisibleDeprecationWarning: converting an array with ndim > 0 to an index will result in an error in the future\n",
      "  data = data.reshape(num_images, rows, cols, 1)\n"
     ]
    }
   ],
   "source": [
    "def init_weights(shape, name):\n",
    "    return tf.Variable(tf.random_normal(shape, stddev=0.01), name=name)\n",
    "\n",
    "# This network is the same as the previous one except with an extra hidden layer + dropout\n",
    "def model(X, w_h, w_h2, w_o, p_keep_input, p_keep_hidden):\n",
    "    # Add layer name scopes for better graph visualization\n",
    "    with tf.name_scope(\"layer1\"):\n",
    "        X = tf.nn.dropout(X, p_keep_input)\n",
    "        h = tf.nn.relu(tf.matmul(X, w_h))\n",
    "    with tf.name_scope(\"layer2\"):\n",
    "        h = tf.nn.dropout(h, p_keep_hidden)\n",
    "        h2 = tf.nn.relu(tf.matmul(h, w_h2))\n",
    "    with tf.name_scope(\"layer3\"):\n",
    "        h2 = tf.nn.dropout(h2, p_keep_hidden)\n",
    "        return tf.matmul(h2, w_o)\n",
    "\n",
    "mnist = input_data.read_data_sets(\"MNIST_data/\", one_hot=True)\n",
    "trX, trY, teX, teY = mnist.train.images, mnist.train.labels, mnist.test.images, mnist.test.labels"
   ]
  },
  {
   "cell_type": "code",
   "execution_count": 3,
   "metadata": {
    "collapsed": true
   },
   "outputs": [],
   "source": [
    "X = tf.placeholder(\"float\", [None, 784], name=\"X\")\n",
    "Y = tf.placeholder(\"float\", [None, 10], name=\"Y\")\n",
    "\n",
    "w_h = init_weights([784, 625], \"w_h\")\n",
    "w_h2 = init_weights([625, 625], \"w_h2\")\n",
    "w_o = init_weights([625, 10], \"w_o\")\n",
    "\n",
    "# Add histogram summaries for weights\n",
    "tf.histogram_summary(\"w_h_summ\", w_h)\n",
    "tf.histogram_summary(\"w_h2_summ\", w_h2)\n",
    "tf.histogram_summary(\"w_o_summ\", w_o)\n",
    "\n",
    "p_keep_input = tf.placeholder(\"float\", name=\"p_keep_input\")\n",
    "p_keep_hidden = tf.placeholder(\"float\", name=\"p_keep_hidden\")\n",
    "py_x = model(X, w_h, w_h2, w_o, p_keep_input, p_keep_hidden)\n",
    "\n",
    "with tf.name_scope(\"cost\"):\n",
    "    cost = tf.reduce_mean(tf.nn.softmax_cross_entropy_with_logits(py_x, Y))\n",
    "    train_op = tf.train.RMSPropOptimizer(0.001, 0.9).minimize(cost)\n",
    "    # Add scalar summary for cost\n",
    "    tf.scalar_summary(\"cost\", cost)\n",
    "\n",
    "with tf.name_scope(\"accuracy\"):\n",
    "    correct_pred = tf.equal(tf.argmax(Y, 1), tf.argmax(py_x, 1)) # Count correct predictions\n",
    "    acc_op = tf.reduce_mean(tf.cast(correct_pred, \"float\")) # Cast boolean to float to average\n",
    "    # Add scalar summary for accuracy\n",
    "    tf.scalar_summary(\"accuracy\", acc_op)"
   ]
  },
  {
   "cell_type": "code",
   "execution_count": 4,
   "metadata": {
    "collapsed": false
   },
   "outputs": [
    {
     "name": "stdout",
     "output_type": "stream",
     "text": [
      "(0, 0.92980003)\n",
      "(1, 0.96600008)\n",
      "(2, 0.97030014)\n",
      "(3, 0.97340012)\n",
      "(4, 0.9769001)\n",
      "(5, 0.97820014)\n",
      "(6, 0.98100019)\n",
      "(7, 0.97890013)\n",
      "(8, 0.97900015)\n",
      "(9, 0.97850013)\n",
      "(10, 0.97970009)\n",
      "(11, 0.98210013)\n",
      "(12, 0.98150009)\n",
      "(13, 0.98180008)\n",
      "(14, 0.9805001)\n",
      "(15, 0.9823001)\n",
      "(16, 0.98210013)\n",
      "(17, 0.98240012)\n",
      "(18, 0.98210025)\n",
      "(19, 0.98210007)\n",
      "(20, 0.98340011)\n",
      "(21, 0.98350012)\n",
      "(22, 0.98400009)\n",
      "(23, 0.98260015)\n",
      "(24, 0.98320013)\n",
      "(25, 0.98180014)\n",
      "(26, 0.98420012)\n",
      "(27, 0.98390013)\n",
      "(28, 0.9841001)\n",
      "(29, 0.98250014)\n",
      "(30, 0.98320013)\n",
      "(31, 0.98200011)\n",
      "(32, 0.98290014)\n",
      "(33, 0.9836002)\n",
      "(34, 0.9823001)\n",
      "(35, 0.98340011)\n",
      "(36, 0.98450017)\n",
      "(37, 0.98350012)\n",
      "(38, 0.98270011)\n",
      "(39, 0.98390013)\n",
      "(40, 0.98350012)\n",
      "(41, 0.98450011)\n",
      "(42, 0.98330015)\n",
      "(43, 0.98360014)\n",
      "(44, 0.98210019)\n",
      "(45, 0.98360008)\n",
      "(46, 0.98490018)\n",
      "(47, 0.98360008)\n",
      "(48, 0.98430008)\n",
      "(49, 0.98290014)\n",
      "(50, 0.98360014)\n",
      "(51, 0.98310018)\n",
      "(52, 0.98350012)\n",
      "(53, 0.98350012)\n",
      "(54, 0.98260021)\n",
      "(55, 0.98340011)\n",
      "(56, 0.98320007)\n",
      "(57, 0.98460013)\n",
      "(58, 0.98540008)\n",
      "(59, 0.98450017)\n",
      "(60, 0.98400015)\n",
      "(61, 0.98430008)\n",
      "(62, 0.98490012)\n",
      "(63, 0.98470008)\n",
      "(64, 0.98580015)\n",
      "(65, 0.98420018)\n",
      "(66, 0.98390013)\n",
      "(67, 0.98540008)\n",
      "(68, 0.98510015)\n",
      "(69, 0.98450017)\n",
      "(70, 0.98340011)\n",
      "(71, 0.98450011)\n",
      "(72, 0.98390019)\n",
      "(73, 0.98500019)\n",
      "(74, 0.9843002)\n",
      "(75, 0.98330009)\n",
      "(76, 0.98320013)\n",
      "(77, 0.98500019)\n",
      "(78, 0.98400009)\n",
      "(79, 0.9848001)\n",
      "(80, 0.98430014)\n",
      "(81, 0.98460007)\n",
      "(82, 0.98490012)\n",
      "(83, 0.98530012)\n",
      "(84, 0.98380011)\n",
      "(85, 0.98570013)\n",
      "(86, 0.9859001)\n",
      "(87, 0.98460019)\n",
      "(88, 0.98460007)\n",
      "(89, 0.98400015)\n",
      "(90, 0.98390007)\n",
      "(91, 0.98420012)\n",
      "(92, 0.98520005)\n",
      "(93, 0.98460013)\n",
      "(94, 0.98460007)\n",
      "(95, 0.98460013)\n",
      "(96, 0.98570013)\n",
      "(97, 0.98520017)\n",
      "(98, 0.98460013)\n",
      "(99, 0.98430014)\n"
     ]
    }
   ],
   "source": [
    "with tf.Session() as sess:\n",
    "    # create a log writer. run 'tensorboard --logdir=./logs/nn_logs'\n",
    "    writer = tf.train.SummaryWriter(\"./logs/nn_logs\", sess.graph) # for 0.8\n",
    "    merged = tf.merge_all_summaries()\n",
    "\n",
    "    # you need to initialize all variables\n",
    "    tf.initialize_all_variables().run()\n",
    "\n",
    "    for i in range(100):\n",
    "        for start, end in zip(range(0, len(trX), 128), range(128, len(trX)+1, 128)):\n",
    "            sess.run(train_op, feed_dict={X: trX[start:end], Y: trY[start:end],\n",
    "                                          p_keep_input: 0.8, p_keep_hidden: 0.5})\n",
    "        summary, acc = sess.run([merged, acc_op], feed_dict={X: teX, Y: teY,\n",
    "                                          p_keep_input: 1.0, p_keep_hidden: 1.0})\n",
    "        writer.add_summary(summary, i)  # Write summary\n",
    "        print(i, acc)                   # Report the accuracy"
   ]
  }
 ],
 "metadata": {
  "kernelspec": {
   "display_name": "Python 2",
   "language": "python",
   "name": "python2"
  },
  "language_info": {
   "codemirror_mode": {
    "name": "ipython",
    "version": 2
   },
   "file_extension": ".py",
   "mimetype": "text/x-python",
   "name": "python",
   "nbconvert_exporter": "python",
   "pygments_lexer": "ipython2",
   "version": "2.7.6"
  }
 },
 "nbformat": 4,
 "nbformat_minor": 1
}
