{
 "cells": [
  {
   "cell_type": "code",
   "execution_count": 1,
   "metadata": {
    "collapsed": true
   },
   "outputs": [],
   "source": [
    "import tensorflow as tf\n",
    "import numpy as np\n",
    "import input_data\n",
    "import os"
   ]
  },
  {
   "cell_type": "code",
   "execution_count": 2,
   "metadata": {
    "collapsed": false
   },
   "outputs": [
    {
     "name": "stdout",
     "output_type": "stream",
     "text": [
      "('Extracting', 'MNIST_data/train-images-idx3-ubyte.gz')\n",
      "('Extracting', 'MNIST_data/train-labels-idx1-ubyte.gz')\n",
      "('Extracting', 'MNIST_data/t10k-images-idx3-ubyte.gz')\n",
      "('Extracting', 'MNIST_data/t10k-labels-idx1-ubyte.gz')\n"
     ]
    },
    {
     "name": "stderr",
     "output_type": "stream",
     "text": [
      "/usr/lib/python2.7/gzip.py:268: VisibleDeprecationWarning: converting an array with ndim > 0 to an index will result in an error in the future\n",
      "  chunk = self.extrabuf[offset: offset + size]\n",
      "input_data.py:42: VisibleDeprecationWarning: converting an array with ndim > 0 to an index will result in an error in the future\n",
      "  data = data.reshape(num_images, rows, cols, 1)\n"
     ]
    }
   ],
   "source": [
    "# This shows how to save/restore your model (trained variables).\n",
    "# To see how it works, please stop this program during training and resart.\n",
    "# This network is the same as 3_net.py\n",
    "\n",
    "def init_weights(shape):\n",
    "    return tf.Variable(tf.random_normal(shape, stddev=0.01))\n",
    "\n",
    "def model(X, w_h, w_h2, w_o, p_keep_input, p_keep_hidden): # this network is the same as the previous one except with an extra hidden layer + dropout\n",
    "    X = tf.nn.dropout(X, p_keep_input)\n",
    "    h = tf.nn.relu(tf.matmul(X, w_h))\n",
    "\n",
    "    h = tf.nn.dropout(h, p_keep_hidden)\n",
    "    h2 = tf.nn.relu(tf.matmul(h, w_h2))\n",
    "\n",
    "    h2 = tf.nn.dropout(h2, p_keep_hidden)\n",
    "\n",
    "    return tf.matmul(h2, w_o)\n",
    "\n",
    "mnist = input_data.read_data_sets(\"MNIST_data/\", one_hot=True)\n",
    "trX, trY, teX, teY = mnist.train.images, mnist.train.labels, mnist.test.images, mnist.test.labels"
   ]
  },
  {
   "cell_type": "code",
   "execution_count": 3,
   "metadata": {
    "collapsed": true
   },
   "outputs": [],
   "source": [
    "X = tf.placeholder(\"float\", [None, 784])\n",
    "Y = tf.placeholder(\"float\", [None, 10])\n",
    "\n",
    "w_h = init_weights([784, 625])\n",
    "w_h2 = init_weights([625, 625])\n",
    "w_o = init_weights([625, 10])\n",
    "\n",
    "p_keep_input = tf.placeholder(\"float\")\n",
    "p_keep_hidden = tf.placeholder(\"float\")\n",
    "py_x = model(X, w_h, w_h2, w_o, p_keep_input, p_keep_hidden)\n",
    "\n",
    "cost = tf.reduce_mean(tf.nn.softmax_cross_entropy_with_logits(py_x, Y))\n",
    "train_op = tf.train.RMSPropOptimizer(0.001, 0.9).minimize(cost)\n",
    "predict_op = tf.argmax(py_x, 1)\n",
    "\n",
    "ckpt_dir = \"./ckpt_dir\"\n",
    "if not os.path.exists(ckpt_dir):\n",
    "    os.makedirs(ckpt_dir)\n",
    "\n",
    "global_step = tf.Variable(0, name='global_step', trainable=False)\n",
    "\n",
    "# Call this after declaring all tf.Variables.\n",
    "saver = tf.train.Saver()\n",
    "\n",
    "# This variable won't be stored, since it is declared after tf.train.Saver()\n",
    "non_storable_variable = tf.Variable(777)"
   ]
  },
  {
   "cell_type": "code",
   "execution_count": 4,
   "metadata": {
    "collapsed": false
   },
   "outputs": [
    {
     "name": "stdout",
     "output_type": "stream",
     "text": [
      "./ckpt_dir/model.ckpt-4\n",
      "('Start from:', 0)\n",
      "(0, 0.93679999999999997)\n",
      "(1, 0.96189999999999998)\n",
      "(2, 0.96830000000000005)\n",
      "(3, 0.97289999999999999)\n",
      "(4, 0.97519999999999996)\n",
      "(5, 0.97709999999999997)\n",
      "(6, 0.97599999999999998)\n",
      "(7, 0.97860000000000003)\n",
      "(8, 0.97689999999999999)\n",
      "(9, 0.98019999999999996)\n",
      "(10, 0.97909999999999997)\n",
      "(11, 0.97950000000000004)\n",
      "(12, 0.97889999999999999)\n",
      "(13, 0.97970000000000002)\n",
      "(14, 0.98140000000000005)\n",
      "(15, 0.98040000000000005)\n",
      "(16, 0.98109999999999997)\n",
      "(17, 0.98060000000000003)\n",
      "(18, 0.97999999999999998)\n",
      "(19, 0.98050000000000004)\n",
      "(20, 0.98180000000000001)\n",
      "(21, 0.98099999999999998)\n",
      "(22, 0.98170000000000002)\n",
      "(23, 0.98180000000000001)\n",
      "(24, 0.98109999999999997)\n",
      "(25, 0.98219999999999996)\n",
      "(26, 0.98270000000000002)\n",
      "(27, 0.98140000000000005)\n",
      "(28, 0.98140000000000005)\n",
      "(29, 0.98250000000000004)\n",
      "(30, 0.98180000000000001)\n",
      "(31, 0.9829)\n",
      "(32, 0.98150000000000004)\n",
      "(33, 0.98309999999999997)\n",
      "(34, 0.98309999999999997)\n",
      "(35, 0.98280000000000001)\n",
      "(36, 0.98280000000000001)\n",
      "(37, 0.98370000000000002)\n",
      "(38, 0.98240000000000005)\n",
      "(39, 0.98350000000000004)\n",
      "(40, 0.98380000000000001)\n",
      "(41, 0.98409999999999997)\n",
      "(42, 0.98470000000000002)\n",
      "(43, 0.98309999999999997)\n",
      "(44, 0.98399999999999999)\n",
      "(45, 0.98319999999999996)\n",
      "(46, 0.98370000000000002)\n",
      "(47, 0.98209999999999997)\n",
      "(48, 0.98380000000000001)\n",
      "(49, 0.98329999999999995)\n",
      "(50, 0.98340000000000005)\n",
      "(51, 0.98280000000000001)\n",
      "(52, 0.98340000000000005)\n",
      "(53, 0.9829)\n",
      "(54, 0.9839)\n",
      "(55, 0.98180000000000001)\n",
      "(56, 0.98380000000000001)\n",
      "(57, 0.98419999999999996)\n",
      "(58, 0.98399999999999999)\n",
      "(59, 0.98299999999999998)\n",
      "(60, 0.98440000000000005)\n",
      "(61, 0.98319999999999996)\n",
      "(62, 0.98540000000000005)\n",
      "(63, 0.98380000000000001)\n",
      "(64, 0.98319999999999996)\n",
      "(65, 0.98299999999999998)\n",
      "(66, 0.98350000000000004)\n",
      "(67, 0.98350000000000004)\n",
      "(68, 0.98319999999999996)\n",
      "(69, 0.98360000000000003)\n",
      "(70, 0.98309999999999997)\n",
      "(71, 0.9849)\n",
      "(72, 0.98480000000000001)\n",
      "(73, 0.98299999999999998)\n",
      "(74, 0.98299999999999998)\n",
      "(75, 0.9839)\n",
      "(76, 0.9839)\n",
      "(77, 0.98280000000000001)\n",
      "(78, 0.98180000000000001)\n",
      "(79, 0.98419999999999996)\n",
      "(80, 0.98360000000000003)\n",
      "(81, 0.9839)\n",
      "(82, 0.9849)\n",
      "(83, 0.98380000000000001)\n",
      "(84, 0.98350000000000004)\n",
      "(85, 0.98350000000000004)\n",
      "(86, 0.98329999999999995)\n",
      "(87, 0.98550000000000004)\n",
      "(88, 0.98350000000000004)\n",
      "(89, 0.98499999999999999)\n",
      "(90, 0.98509999999999998)\n",
      "(91, 0.98319999999999996)\n",
      "(92, 0.98419999999999996)\n",
      "(93, 0.98329999999999995)\n",
      "(94, 0.98499999999999999)\n",
      "(95, 0.9829)\n",
      "(96, 0.98380000000000001)\n",
      "(97, 0.9839)\n",
      "(98, 0.98460000000000003)\n",
      "(99, 0.98470000000000002)\n"
     ]
    }
   ],
   "source": [
    "# Launch the graph in a session\n",
    "with tf.Session() as sess:\n",
    "    # you need to initialize all variables\n",
    "    tf.initialize_all_variables().run()\n",
    "\n",
    "    ckpt = tf.train.get_checkpoint_state(ckpt_dir)\n",
    "    if ckpt and ckpt.model_checkpoint_path:\n",
    "        print(ckpt.model_checkpoint_path)\n",
    "        saver.restore(sess, ckpt.model_checkpoint_path) # restore all variables\n",
    "\n",
    "    start = global_step.eval() # get last global_step\n",
    "    print(\"Start from:\", start)\n",
    "\n",
    "    for i in range(start, 100):\n",
    "        for start, end in zip(range(0, len(trX), 128), range(128, len(trX)+1, 128)):\n",
    "            sess.run(train_op, feed_dict={X: trX[start:end], Y: trY[start:end],\n",
    "                                          p_keep_input: 0.8, p_keep_hidden: 0.5})\n",
    "\n",
    "        global_step.assign(i).eval() # set and update(eval) global_step with index, i\n",
    "        saver.save(sess, ckpt_dir + \"/model.ckpt\", global_step=global_step)\n",
    "        print(i, np.mean(np.argmax(teY, axis=1) ==\n",
    "                         sess.run(predict_op, feed_dict={X: teX, Y: teY,\n",
    "                                                         p_keep_input: 1.0,\n",
    "                                                         p_keep_hidden: 1.0})))"
   ]
  }
 ],
 "metadata": {
  "kernelspec": {
   "display_name": "Python 2",
   "language": "python",
   "name": "python2"
  },
  "language_info": {
   "codemirror_mode": {
    "name": "ipython",
    "version": 2
   },
   "file_extension": ".py",
   "mimetype": "text/x-python",
   "name": "python",
   "nbconvert_exporter": "python",
   "pygments_lexer": "ipython2",
   "version": "2.7.6"
  }
 },
 "nbformat": 4,
 "nbformat_minor": 1
}
