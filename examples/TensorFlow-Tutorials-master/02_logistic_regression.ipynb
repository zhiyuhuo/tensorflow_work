{
 "cells": [
  {
   "cell_type": "code",
   "execution_count": 1,
   "metadata": {
    "collapsed": true
   },
   "outputs": [],
   "source": [
    "import tensorflow as tf\n",
    "import numpy as np\n",
    "import input_data"
   ]
  },
  {
   "cell_type": "code",
   "execution_count": 2,
   "metadata": {
    "collapsed": false
   },
   "outputs": [
    {
     "name": "stdout",
     "output_type": "stream",
     "text": [
      "('Extracting', 'MNIST_data/train-images-idx3-ubyte.gz')\n",
      "('Extracting', 'MNIST_data/train-labels-idx1-ubyte.gz')\n",
      "('Extracting', 'MNIST_data/t10k-images-idx3-ubyte.gz')\n",
      "('Extracting', 'MNIST_data/t10k-labels-idx1-ubyte.gz')\n"
     ]
    },
    {
     "name": "stderr",
     "output_type": "stream",
     "text": [
      "/usr/lib/python2.7/gzip.py:268: VisibleDeprecationWarning: converting an array with ndim > 0 to an index will result in an error in the future\n",
      "  chunk = self.extrabuf[offset: offset + size]\n",
      "input_data.py:42: VisibleDeprecationWarning: converting an array with ndim > 0 to an index will result in an error in the future\n",
      "  data = data.reshape(num_images, rows, cols, 1)\n"
     ]
    }
   ],
   "source": [
    "def init_weights(shape):\n",
    "    return tf.Variable(tf.random_normal(shape, stddev=0.01))\n",
    "\n",
    "def model(X, w):\n",
    "    return tf.matmul(X, w) # notice we use the same model as linear regression, this is because there is a baked in cost function which performs softmax and cross entropy\n",
    "\n",
    "mnist = input_data.read_data_sets(\"MNIST_data/\", one_hot=True)\n",
    "trX, trY, teX, teY = mnist.train.images, mnist.train.labels, mnist.test.images, mnist.test.labels"
   ]
  },
  {
   "cell_type": "code",
   "execution_count": 3,
   "metadata": {
    "collapsed": true
   },
   "outputs": [],
   "source": [
    "X = tf.placeholder(\"float\", [None, 784]) # create symbolic variables\n",
    "Y = tf.placeholder(\"float\", [None, 10])\n",
    "\n",
    "w = init_weights([784, 10]) # like in linear regression, we need a shared variable weight matrix for logistic regression\n",
    "\n",
    "py_x = model(X, w)\n",
    "\n",
    "cost = tf.reduce_mean(tf.nn.softmax_cross_entropy_with_logits(py_x, Y)) # compute mean cross entropy (softmax is applied internally)\n",
    "train_op = tf.train.GradientDescentOptimizer(0.05).minimize(cost) # construct optimizer\n",
    "predict_op = tf.argmax(py_x, 1) # at predict time, evaluate the argmax of the logistic regression"
   ]
  },
  {
   "cell_type": "code",
   "execution_count": 4,
   "metadata": {
    "collapsed": false
   },
   "outputs": [
    {
     "name": "stdout",
     "output_type": "stream",
     "text": [
      "(0, 0.88449999999999995)\n",
      "(1, 0.89739999999999998)\n",
      "(2, 0.90290000000000004)\n",
      "(3, 0.90700000000000003)\n",
      "(4, 0.91039999999999999)\n",
      "(5, 0.91169999999999995)\n",
      "(6, 0.91159999999999997)\n",
      "(7, 0.91339999999999999)\n",
      "(8, 0.91439999999999999)\n",
      "(9, 0.91520000000000001)\n",
      "(10, 0.91569999999999996)\n",
      "(11, 0.91669999999999996)\n",
      "(12, 0.91690000000000005)\n",
      "(13, 0.91690000000000005)\n",
      "(14, 0.91759999999999997)\n",
      "(15, 0.91810000000000003)\n",
      "(16, 0.91859999999999997)\n",
      "(17, 0.91879999999999995)\n",
      "(18, 0.91930000000000001)\n",
      "(19, 0.91979999999999995)\n",
      "(20, 0.91990000000000005)\n",
      "(21, 0.91990000000000005)\n",
      "(22, 0.92059999999999997)\n",
      "(23, 0.92049999999999998)\n",
      "(24, 0.92069999999999996)\n",
      "(25, 0.92059999999999997)\n",
      "(26, 0.9204)\n",
      "(27, 0.92100000000000004)\n",
      "(28, 0.92120000000000002)\n",
      "(29, 0.92149999999999999)\n",
      "(30, 0.9214)\n",
      "(31, 0.9214)\n",
      "(32, 0.92130000000000001)\n",
      "(33, 0.92159999999999997)\n",
      "(34, 0.92149999999999999)\n",
      "(35, 0.92149999999999999)\n",
      "(36, 0.92159999999999997)\n",
      "(37, 0.92169999999999996)\n",
      "(38, 0.92190000000000005)\n",
      "(39, 0.92220000000000002)\n",
      "(40, 0.92210000000000003)\n",
      "(41, 0.92200000000000004)\n",
      "(42, 0.92200000000000004)\n",
      "(43, 0.92200000000000004)\n",
      "(44, 0.92200000000000004)\n",
      "(45, 0.92190000000000005)\n",
      "(46, 0.92200000000000004)\n",
      "(47, 0.92210000000000003)\n",
      "(48, 0.92220000000000002)\n",
      "(49, 0.92220000000000002)\n",
      "(50, 0.92200000000000004)\n",
      "(51, 0.92190000000000005)\n",
      "(52, 0.92210000000000003)\n",
      "(53, 0.92220000000000002)\n",
      "(54, 0.92230000000000001)\n",
      "(55, 0.92230000000000001)\n",
      "(56, 0.9224)\n",
      "(57, 0.92259999999999998)\n",
      "(58, 0.92249999999999999)\n",
      "(59, 0.92279999999999995)\n",
      "(60, 0.92300000000000004)\n",
      "(61, 0.92310000000000003)\n",
      "(62, 0.92300000000000004)\n",
      "(63, 0.92320000000000002)\n",
      "(64, 0.92330000000000001)\n",
      "(65, 0.92320000000000002)\n",
      "(66, 0.92330000000000001)\n",
      "(67, 0.92330000000000001)\n",
      "(68, 0.92330000000000001)\n",
      "(69, 0.9234)\n",
      "(70, 0.9234)\n",
      "(71, 0.9234)\n",
      "(72, 0.9234)\n",
      "(73, 0.9234)\n",
      "(74, 0.92320000000000002)\n",
      "(75, 0.92320000000000002)\n",
      "(76, 0.9234)\n",
      "(77, 0.92349999999999999)\n",
      "(78, 0.92349999999999999)\n",
      "(79, 0.92349999999999999)\n",
      "(80, 0.92349999999999999)\n",
      "(81, 0.92359999999999998)\n",
      "(82, 0.92359999999999998)\n",
      "(83, 0.92369999999999997)\n",
      "(84, 0.92369999999999997)\n",
      "(85, 0.92359999999999998)\n",
      "(86, 0.92349999999999999)\n",
      "(87, 0.92359999999999998)\n",
      "(88, 0.92349999999999999)\n",
      "(89, 0.92349999999999999)\n",
      "(90, 0.92359999999999998)\n",
      "(91, 0.92369999999999997)\n",
      "(92, 0.92359999999999998)\n",
      "(93, 0.92369999999999997)\n",
      "(94, 0.92379999999999995)\n",
      "(95, 0.92379999999999995)\n",
      "(96, 0.92369999999999997)\n",
      "(97, 0.92359999999999998)\n",
      "(98, 0.92359999999999998)\n",
      "(99, 0.92359999999999998)\n"
     ]
    }
   ],
   "source": [
    "# Launch the graph in a session\n",
    "with tf.Session() as sess:\n",
    "    # you need to initialize all variables\n",
    "    tf.initialize_all_variables().run()\n",
    "\n",
    "    for i in range(100):\n",
    "        for start, end in zip(range(0, len(trX), 128), range(128, len(trX)+1, 128)):\n",
    "            sess.run(train_op, feed_dict={X: trX[start:end], Y: trY[start:end]})\n",
    "        print(i, np.mean(np.argmax(teY, axis=1) ==\n",
    "                         sess.run(predict_op, feed_dict={X: teX})))"
   ]
  }
 ],
 "metadata": {
  "kernelspec": {
   "display_name": "Python 2",
   "language": "python",
   "name": "python2"
  },
  "language_info": {
   "codemirror_mode": {
    "name": "ipython",
    "version": 2
   },
   "file_extension": ".py",
   "mimetype": "text/x-python",
   "name": "python",
   "nbconvert_exporter": "python",
   "pygments_lexer": "ipython2",
   "version": "2.7.6"
  }
 },
 "nbformat": 4,
 "nbformat_minor": 1
}
