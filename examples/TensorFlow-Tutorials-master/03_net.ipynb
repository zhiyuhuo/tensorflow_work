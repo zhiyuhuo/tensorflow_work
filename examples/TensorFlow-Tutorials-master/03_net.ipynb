{
 "cells": [
  {
   "cell_type": "code",
   "execution_count": 1,
   "metadata": {
    "collapsed": true
   },
   "outputs": [],
   "source": [
    "import tensorflow as tf\n",
    "import numpy as np\n",
    "import input_data"
   ]
  },
  {
   "cell_type": "code",
   "execution_count": 2,
   "metadata": {
    "collapsed": false
   },
   "outputs": [
    {
     "name": "stdout",
     "output_type": "stream",
     "text": [
      "('Extracting', 'MNIST_data/train-images-idx3-ubyte.gz')\n"
     ]
    },
    {
     "name": "stderr",
     "output_type": "stream",
     "text": [
      "/usr/lib/python2.7/gzip.py:268: VisibleDeprecationWarning: converting an array with ndim > 0 to an index will result in an error in the future\n",
      "  chunk = self.extrabuf[offset: offset + size]\n",
      "input_data.py:42: VisibleDeprecationWarning: converting an array with ndim > 0 to an index will result in an error in the future\n",
      "  data = data.reshape(num_images, rows, cols, 1)\n"
     ]
    },
    {
     "name": "stdout",
     "output_type": "stream",
     "text": [
      "('Extracting', 'MNIST_data/train-labels-idx1-ubyte.gz')\n",
      "('Extracting', 'MNIST_data/t10k-images-idx3-ubyte.gz')\n",
      "('Extracting', 'MNIST_data/t10k-labels-idx1-ubyte.gz')\n"
     ]
    }
   ],
   "source": [
    "def init_weights(shape):\n",
    "    return tf.Variable(tf.random_normal(shape, stddev=0.01))\n",
    "\n",
    "def model(X, w_h, w_o):\n",
    "    h = tf.nn.sigmoid(tf.matmul(X, w_h)) # this is a basic mlp, think 2 stacked logistic regressions\n",
    "    return tf.matmul(h, w_o) # note that we dont take the softmax at the end because our cost fn does that for us\n",
    "\n",
    "mnist = input_data.read_data_sets(\"MNIST_data/\", one_hot=True)\n",
    "trX, trY, teX, teY = mnist.train.images, mnist.train.labels, mnist.test.images, mnist.test.labels"
   ]
  },
  {
   "cell_type": "code",
   "execution_count": 3,
   "metadata": {
    "collapsed": true
   },
   "outputs": [],
   "source": [
    "X = tf.placeholder(\"float\", [None, 784])\n",
    "Y = tf.placeholder(\"float\", [None, 10])\n",
    "\n",
    "w_h = init_weights([784, 625]) # create symbolic variables\n",
    "w_o = init_weights([625, 10])\n",
    "\n",
    "py_x = model(X, w_h, w_o)\n",
    "\n",
    "cost = tf.reduce_mean(tf.nn.softmax_cross_entropy_with_logits(py_x, Y)) # compute costs\n",
    "train_op = tf.train.GradientDescentOptimizer(0.05).minimize(cost) # construct an optimizer\n",
    "predict_op = tf.argmax(py_x, 1)"
   ]
  },
  {
   "cell_type": "code",
   "execution_count": 4,
   "metadata": {
    "collapsed": false
   },
   "outputs": [
    {
     "name": "stdout",
     "output_type": "stream",
     "text": [
      "(0, 0.69310000000000005)\n",
      "(1, 0.82179999999999997)\n",
      "(2, 0.86199999999999999)\n",
      "(3, 0.88109999999999999)\n",
      "(4, 0.8881)\n",
      "(5, 0.89439999999999997)\n",
      "(6, 0.89739999999999998)\n",
      "(7, 0.90100000000000002)\n",
      "(8, 0.90439999999999998)\n",
      "(9, 0.90549999999999997)\n",
      "(10, 0.90780000000000005)\n",
      "(11, 0.91049999999999998)\n",
      "(12, 0.91139999999999999)\n",
      "(13, 0.91320000000000001)\n",
      "(14, 0.91469999999999996)\n",
      "(15, 0.91559999999999997)\n",
      "(16, 0.91569999999999996)\n",
      "(17, 0.91690000000000005)\n",
      "(18, 0.91769999999999996)\n",
      "(19, 0.91830000000000001)\n",
      "(20, 0.91879999999999995)\n",
      "(21, 0.9194)\n",
      "(22, 0.92000000000000004)\n",
      "(23, 0.92010000000000003)\n",
      "(24, 0.92010000000000003)\n",
      "(25, 0.92079999999999995)\n",
      "(26, 0.92149999999999999)\n",
      "(27, 0.92210000000000003)\n",
      "(28, 0.92230000000000001)\n",
      "(29, 0.92249999999999999)\n",
      "(30, 0.92310000000000003)\n",
      "(31, 0.92320000000000002)\n",
      "(32, 0.92379999999999995)\n",
      "(33, 0.9244)\n",
      "(34, 0.92530000000000001)\n",
      "(35, 0.92630000000000001)\n",
      "(36, 0.92649999999999999)\n",
      "(37, 0.92720000000000002)\n",
      "(38, 0.92769999999999997)\n",
      "(39, 0.92769999999999997)\n",
      "(40, 0.92859999999999998)\n",
      "(41, 0.92910000000000004)\n",
      "(42, 0.92959999999999998)\n",
      "(43, 0.93049999999999999)\n",
      "(44, 0.93130000000000002)\n",
      "(45, 0.93169999999999997)\n",
      "(46, 0.93200000000000005)\n",
      "(47, 0.93240000000000001)\n",
      "(48, 0.93300000000000005)\n",
      "(49, 0.93359999999999999)\n",
      "(50, 0.93440000000000001)\n",
      "(51, 0.93520000000000003)\n",
      "(52, 0.93569999999999998)\n",
      "(53, 0.93640000000000001)\n",
      "(54, 0.93679999999999997)\n",
      "(55, 0.93740000000000001)\n",
      "(56, 0.93789999999999996)\n",
      "(57, 0.93820000000000003)\n",
      "(58, 0.93879999999999997)\n",
      "(59, 0.93899999999999995)\n",
      "(60, 0.93940000000000001)\n",
      "(61, 0.94010000000000005)\n",
      "(62, 0.94030000000000002)\n",
      "(63, 0.94079999999999997)\n",
      "(64, 0.94130000000000003)\n",
      "(65, 0.94179999999999997)\n",
      "(66, 0.94230000000000003)\n",
      "(67, 0.94259999999999999)\n",
      "(68, 0.94330000000000003)\n",
      "(69, 0.94399999999999995)\n",
      "(70, 0.94450000000000001)\n",
      "(71, 0.94469999999999998)\n",
      "(72, 0.94540000000000002)\n",
      "(73, 0.94579999999999997)\n",
      "(74, 0.94630000000000003)\n",
      "(75, 0.94669999999999999)\n",
      "(76, 0.94710000000000005)\n",
      "(77, 0.94710000000000005)\n",
      "(78, 0.94789999999999996)\n",
      "(79, 0.94810000000000005)\n",
      "(80, 0.9486)\n",
      "(81, 0.94920000000000004)\n",
      "(82, 0.94979999999999998)\n",
      "(83, 0.95020000000000004)\n",
      "(84, 0.95089999999999997)\n",
      "(85, 0.95099999999999996)\n",
      "(86, 0.95140000000000002)\n",
      "(87, 0.95179999999999998)\n",
      "(88, 0.95199999999999996)\n",
      "(89, 0.95240000000000002)\n",
      "(90, 0.95230000000000004)\n",
      "(91, 0.9526)\n",
      "(92, 0.95279999999999998)\n",
      "(93, 0.95330000000000004)\n",
      "(94, 0.95340000000000003)\n",
      "(95, 0.95369999999999999)\n",
      "(96, 0.95399999999999996)\n",
      "(97, 0.95489999999999997)\n",
      "(98, 0.95489999999999997)\n",
      "(99, 0.95520000000000005)\n"
     ]
    }
   ],
   "source": [
    "# Launch the graph in a session\n",
    "with tf.Session() as sess:\n",
    "    # you need to initialize all variables\n",
    "    tf.initialize_all_variables().run()\n",
    "\n",
    "    for i in range(100):\n",
    "        for start, end in zip(range(0, len(trX), 128), range(128, len(trX)+1, 128)):\n",
    "            sess.run(train_op, feed_dict={X: trX[start:end], Y: trY[start:end]})\n",
    "        print(i, np.mean(np.argmax(teY, axis=1) ==\n",
    "                         sess.run(predict_op, feed_dict={X: teX})))"
   ]
  }
 ],
 "metadata": {
  "kernelspec": {
   "display_name": "Python 2",
   "language": "python",
   "name": "python2"
  },
  "language_info": {
   "codemirror_mode": {
    "name": "ipython",
    "version": 2
   },
   "file_extension": ".py",
   "mimetype": "text/x-python",
   "name": "python",
   "nbconvert_exporter": "python",
   "pygments_lexer": "ipython2",
   "version": "2.7.6"
  }
 },
 "nbformat": 4,
 "nbformat_minor": 1
}
